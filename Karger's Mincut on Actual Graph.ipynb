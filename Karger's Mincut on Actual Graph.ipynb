{
 "cells": [
  {
   "cell_type": "code",
   "execution_count": 1,
   "metadata": {
    "scrolled": true
   },
   "outputs": [
    {
     "data": {
      "text/plain": [
       "0"
      ]
     },
     "execution_count": 1,
     "metadata": {},
     "output_type": "execute_result"
    }
   ],
   "source": [
    "import collections\n",
    "import networkx as nx\n",
    "import numpy as np\n",
    "import matplotlib.pyplot as plt\n",
    "from networkx.algorithms.flow import shortest_augmenting_path\n",
    "from random import choice\n",
    "import random\n",
    "G = nx.DiGraph()\n",
    "G.clear()\n",
    "#G.add_nodes_from(range(100)) #total number of nodes in the graph with new nodes to carry out new mincut\n",
    "G.number_of_nodes()"
   ]
  },
  {
   "cell_type": "code",
   "execution_count": 2,
   "metadata": {
    "scrolled": true
   },
   "outputs": [],
   "source": [
    "graphdata = open(\"trimmed.txt\",\"r\")"
   ]
  },
  {
   "cell_type": "code",
   "execution_count": 3,
   "metadata": {},
   "outputs": [],
   "source": [
    "\n",
    "while True:\n",
    "    line = graphdata.readline()\n",
    "    if line == \"\":\n",
    "        break\n",
    "    \n",
    "    line = line.replace(\"[\",\"\")\n",
    "    line = line.replace(\"]\\n\",\"\")\n",
    "    line = line.replace(\",\",\"\")\n",
    "    line = line.split()\n",
    "    \n",
    "   # if int(line[0]) == 20:\n",
    "   #     break\n",
    "    \n",
    "    #print(line[0],line[1])\n",
    "    G.add_node(int(line[0]))\n",
    "    G.add_node(int(line[1]))\n",
    "    G.add_edge(int(line[0]),int(line[1]),weight=99)\n",
    "    \n",
    "    #G.add_edge(int(line[1]),choice(list(G.nodes)),weight=99) #backedge to make the graph connected.\n",
    "\n",
    "#G.add_nodes_from(range(7820,15638)) #2 nodes for each node\n",
    "\n",
    "\n"
   ]
  },
  {
   "cell_type": "code",
   "execution_count": 4,
   "metadata": {},
   "outputs": [
    {
     "data": {
      "text/plain": [
       "7821"
      ]
     },
     "execution_count": 4,
     "metadata": {},
     "output_type": "execute_result"
    }
   ],
   "source": [
    "list(G.nodes())\n",
    "G.number_of_nodes()"
   ]
  },
  {
   "cell_type": "code",
   "execution_count": 5,
   "metadata": {},
   "outputs": [
    {
     "data": {
      "text/plain": [
       "328355"
      ]
     },
     "execution_count": 5,
     "metadata": {},
     "output_type": "execute_result"
    }
   ],
   "source": [
    "G.number_of_edges()"
   ]
  },
  {
   "cell_type": "code",
   "execution_count": 6,
   "metadata": {},
   "outputs": [],
   "source": [
    "x = 7821\n",
    "nodeslist = list(G.nodes())\n",
    "for i in nodeslist:\n",
    "    G.add_node(x)\n",
    "    tempout = list(G.out_edges(i)) #Store outedge of node i\n",
    "    \n",
    "    for p in tempout:\n",
    "        G.remove_edge(i,p[1])   #remove outedges from node i\n",
    "    \n",
    "    G.add_edge(i,x, weight = 1) #Add edge from node i to the new node x\n",
    "    \n",
    "    for p in tempout:\n",
    "        G.add_edge(x,p[1], weight = 99) #Adds the outedges from node i to node x\n",
    "    \n",
    "    x = x + 1 #Increment to the new node\n",
    "    \n",
    "    \n",
    "    #total number of edges in the graph"
   ]
  },
  {
   "cell_type": "code",
   "execution_count": 7,
   "metadata": {},
   "outputs": [
    {
     "data": {
      "text/plain": [
       "15642"
      ]
     },
     "execution_count": 7,
     "metadata": {},
     "output_type": "execute_result"
    }
   ],
   "source": [
    "G.number_of_nodes()"
   ]
  },
  {
   "cell_type": "code",
   "execution_count": 8,
   "metadata": {},
   "outputs": [
    {
     "data": {
      "text/plain": [
       "336176"
      ]
     },
     "execution_count": 8,
     "metadata": {},
     "output_type": "execute_result"
    }
   ],
   "source": [
    "G.number_of_edges() #Makes sense because we added 7820 nodes"
   ]
  },
  {
   "cell_type": "code",
   "execution_count": 9,
   "metadata": {},
   "outputs": [],
   "source": [
    "indegrees=list(G.in_degree())"
   ]
  },
  {
   "cell_type": "code",
   "execution_count": 10,
   "metadata": {},
   "outputs": [],
   "source": [
    "indegrees.sort(key = lambda x: x[1],reverse=True)"
   ]
  },
  {
   "cell_type": "code",
   "execution_count": 11,
   "metadata": {},
   "outputs": [
    {
     "data": {
      "text/plain": [
       "(2243, 2702)"
      ]
     },
     "execution_count": 11,
     "metadata": {},
     "output_type": "execute_result"
    }
   ],
   "source": [
    "sinknode = indegrees[0][0]\n",
    "indegrees[0]"
   ]
  },
  {
   "cell_type": "code",
   "execution_count": 12,
   "metadata": {},
   "outputs": [],
   "source": [
    "outdegrees = list(G.out_degree())"
   ]
  },
  {
   "cell_type": "code",
   "execution_count": 13,
   "metadata": {},
   "outputs": [],
   "source": [
    "outdegrees.sort(key = lambda x: x[1],reverse=True)"
   ]
  },
  {
   "cell_type": "code",
   "execution_count": 14,
   "metadata": {},
   "outputs": [
    {
     "data": {
      "text/plain": [
       "(10829, 111)"
      ]
     },
     "execution_count": 14,
     "metadata": {},
     "output_type": "execute_result"
    }
   ],
   "source": [
    "sourcenode = outdegrees[0][0]\n",
    "outdegrees[0]"
   ]
  },
  {
   "cell_type": "code",
   "execution_count": 15,
   "metadata": {},
   "outputs": [
    {
     "data": {
      "text/plain": [
       "1"
      ]
     },
     "execution_count": 15,
     "metadata": {},
     "output_type": "execute_result"
    }
   ],
   "source": [
    "temp = G.to_undirected()\n",
    "nx.number_connected_components(temp)"
   ]
  }
 ],
 "metadata": {
  "kernelspec": {
   "display_name": "Python 3",
   "language": "python",
   "name": "python3"
  },
  "language_info": {
   "codemirror_mode": {
    "name": "ipython",
    "version": 3
   },
   "file_extension": ".py",
   "mimetype": "text/x-python",
   "name": "python",
   "nbconvert_exporter": "python",
   "pygments_lexer": "ipython3",
   "version": "3.7.4"
  }
 },
 "nbformat": 4,
 "nbformat_minor": 2
}
